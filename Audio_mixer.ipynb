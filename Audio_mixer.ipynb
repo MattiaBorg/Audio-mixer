{
 "cells": [
  {
   "cell_type": "code",
   "execution_count": null,
   "metadata": {
    "colab": {
     "base_uri": "https://localhost:8080/"
    },
    "executionInfo": {
     "elapsed": 17730,
     "status": "ok",
     "timestamp": 1759173797948,
     "user": {
      "displayName": "Mattia Borgia",
      "userId": "08265928713914240470"
     },
     "user_tz": -120
    },
    "id": "Qp1bo19O6NhC",
    "outputId": "174b1b0e-802a-4573-d0e8-5c6afd41968e"
   },
   "outputs": [],
   "source": [
    "# CELLA 1: Installa tutte le librerie necessarie\n",
    "print(\"⏳ Installazione delle librerie in corso... (potrebbe richiedere un po' di tempo)\")\n",
    "!pip install yt-dlp\n",
    "!pip install demucs -q\n",
    "!pip install pydub -q\n",
    "\n",
    "print(\"✅ Installazione completata!\")"
   ]
  },
  {
   "cell_type": "code",
   "execution_count": null,
   "metadata": {
    "executionInfo": {
     "elapsed": 3439,
     "status": "ok",
     "timestamp": 1759174238736,
     "user": {
      "displayName": "Mattia Borgia",
      "userId": "08265928713914240470"
     },
     "user_tz": -120
    },
    "id": "VRcDeCnS6brf"
   },
   "outputs": [],
   "source": [
    "# CELLA 2: Importa le librerie e definisci le funzioni (Versione aggiornata)\n",
    "import os\n",
    "import glob\n",
    "import subprocess\n",
    "import ipywidgets as widgets\n",
    "from pydub import AudioSegment\n",
    "from IPython.display import display, Audio, clear_output\n",
    "import yt_dlp\n",
    "\n",
    "# --- Funzioni di supporto ---\n",
    "\n",
    "def process_and_mix(yt_url, mix_type):\n",
    "    \"\"\"\n",
    "    Funzione principale che esegue il download, la separazione e il mixaggio.\n",
    "    \"\"\"\n",
    "    BASE_DIR = \"/content/audio_mixer\"\n",
    "    INPUT_DIR = os.path.join(BASE_DIR, \"input\")\n",
    "    SEPARATED_DIR = os.path.join(BASE_DIR, \"separated\")\n",
    "    OUTPUT_DIR = os.path.join(BASE_DIR, \"output\")\n",
    "\n",
    "    # Crea le directory necessarie\n",
    "    for d in [INPUT_DIR, SEPARATED_DIR, OUTPUT_DIR]:\n",
    "        os.makedirs(d, exist_ok=True)\n",
    "\n",
    "    try:\n",
    "        # --- 1. Download da YouTube ---\n",
    "        print(f\"⬇️  Scaricando l'audio da YouTube...\")\n",
    "        input_audio_path = os.path.join(INPUT_DIR, \"input_audio.mp3\")\n",
    "        ydl_opts = {\n",
    "            'format': 'bestaudio/best',\n",
    "            'outtmpl': input_audio_path, # CORRETTO: Usa il percorso del file, non un URL\n",
    "            'noplaylist': True,\n",
    "            'postprocessors': [{'key': 'FFmpegExtractAudio', 'preferredcodec': 'mp3'}],\n",
    "        }\n",
    "        with yt_dlp.YoutubeDL(ydl_opts) as ydl:\n",
    "            ydl.download([yt_url])\n",
    "        print(\"✅ Audio scaricato con successo!\")\n",
    "\n",
    "        # --- 2. Separazione con Demucs ---\n",
    "        print(\"\\n🎶 Separazione delle tracce con Demucs... (questo è il passaggio più lungo)\")\n",
    "        command = f'python -m demucs.separate -n htdemucs --mp3 \"{input_audio_path}\" -o \"{SEPARATED_DIR}\"'\n",
    "        subprocess.run(command, shell=True, check=True, capture_output=True)\n",
    "\n",
    "        # Trova la cartella del brano creata da demucs\n",
    "        htdemucs_output_dir = os.path.join(SEPARATED_DIR, \"htdemucs\")\n",
    "        song_folder_name = os.listdir(htdemucs_output_dir)[0]\n",
    "        tracks_path = os.path.join(htdemucs_output_dir, song_folder_name)\n",
    "\n",
    "        separated_tracks = glob.glob(os.path.join(tracks_path, \"*.mp3\"))\n",
    "        print(f\"✅ Tracce separate: {[os.path.basename(t) for t in separated_tracks]}\")\n",
    "\n",
    "        # --- 3. Creazione del Mix ---\n",
    "        print(f\"\\n🎛️  Creazione del mix '{mix_type}'...\")\n",
    "        tracks_to_mix = []\n",
    "        if mix_type == \"Karaoke\":\n",
    "            # Escludi la traccia 'vocals'\n",
    "            tracks_to_mix = [t for t in separated_tracks if \"vocals\" not in os.path.basename(t)]\n",
    "        elif mix_type == \"Drumless\":\n",
    "            # Escludi la traccia 'drums'\n",
    "            tracks_to_mix = [t for t in separated_tracks if \"drums\" not in os.path.basename(t)]\n",
    "        elif mix_type == \"Drums only\":\n",
    "            # Includi *solo* la traccia 'drums'\n",
    "            tracks_to_mix = [t for t in separated_tracks if \"drums\" in os.path.basename(t)]\n",
    "\n",
    "        if not tracks_to_mix:\n",
    "             # Se 'Drums only' è stato selezionato ma non c'è una traccia drums, dà un errore chiaro.\n",
    "             if mix_type == \"Drums only\":\n",
    "                 raise Exception(\"Traccia 'drums' non trovata da Demucs.\")\n",
    "             else:\n",
    "                 raise Exception(\"Nessuna traccia trovata per il mix. Strano!\")\n",
    "\n",
    "        # Se c'è una sola traccia (es. Drums only), non c'è bisogno di mixare.\n",
    "        if len(tracks_to_mix) == 1:\n",
    "            final_mix = AudioSegment.from_mp3(tracks_to_mix[0])\n",
    "        else:\n",
    "            # Carica la prima traccia come base\n",
    "            final_mix = AudioSegment.from_mp3(tracks_to_mix[0])\n",
    "            # Sovrapponi le altre tracce\n",
    "            for track_file in tracks_to_mix[1:]:\n",
    "                segment = AudioSegment.from_mp3(track_file)\n",
    "                final_mix = final_mix.overlay(segment)\n",
    "\n",
    "        # --- 4. Esporta e mostra il risultato ---\n",
    "        output_filename = f\"final_mix_{mix_type.lower().replace(' ', '_')}.mp3\"\n",
    "        final_output_path = os.path.join(OUTPUT_DIR, output_filename)\n",
    "        final_mix.export(final_output_path, format=\"mp3\")\n",
    "\n",
    "        clear_output(wait=True)\n",
    "        print(f\"🎉 Mix finale completato! 🎉\")\n",
    "        print(f\"File salvato in: {final_output_path}\")\n",
    "        print(\"\\nAscolta il risultato qui sotto:\")\n",
    "        display(Audio(final_output_path))\n",
    "\n",
    "    except Exception as e:\n",
    "        clear_output(wait=True) # Pulisce l'output anche in caso di errore\n",
    "        print(f\"❌ Si è verificato un errore: {e}\")\n",
    "        print(\"Controlla che il link di YouTube sia valido e riprova.\")\n",
    "\n",
    "\n",
    "# --- Creazione Interfaccia ---\n",
    "url_input = widgets.Text(\n",
    "    value='https://www.youtube.com/watch?v=hBvJyi3fbtA', # Valore di default\n",
    "    placeholder='Incolla qui il link di YouTube',\n",
    "    description='Link YouTube:',\n",
    "    style={'description_width': 'initial'},\n",
    "    layout=widgets.Layout(width='90%')\n",
    ")\n",
    "\n",
    "mix_type_selector = widgets.RadioButtons(\n",
    "    options=['Karaoke', 'Drumless', 'Drums only'],\n",
    "    description='Tipo di Mix:',\n",
    "    style={'description_width': 'initial'},\n",
    "    disabled=False\n",
    ")\n",
    "\n",
    "button = widgets.Button(\n",
    "    description=\"Crea Mix Audio\",\n",
    "    button_style='success',\n",
    "    tooltip='Avvia il processo',\n",
    "    icon='play'\n",
    ")\n",
    "\n",
    "output_area = widgets.Output()\n",
    "\n",
    "def on_button_clicked(b):\n",
    "    with output_area:\n",
    "        clear_output(wait=True)\n",
    "        if not url_input.value.strip():\n",
    "            print(\"Per favore, inserisci un link di YouTube.\")\n",
    "            return\n",
    "        print(\"🚀 Avvio del processo... Preparati!\")\n",
    "        process_and_mix(url_input.value, mix_type_selector.value)\n",
    "\n",
    "button.on_click(on_button_clicked)"
   ]
  },
  {
   "cell_type": "code",
   "execution_count": null,
   "metadata": {
    "colab": {
     "base_uri": "https://localhost:8080/",
     "height": 282,
     "referenced_widgets": [
      "0ad60fe77d134d6797291120079d1000",
      "e792c4bf757b400fa7db9d4188bcee8c",
      "cac17a8e8eab4063b76685c540e0f706",
      "dcecb608aa9044b38125f64a97069453",
      "ae125505dba14d92854503203bc74dd7",
      "fc93d4424a8340438dd47121605ab77c",
      "0d0745b2987e4a2aa4dc6affee7e4f9f",
      "7dd12e8e6b7f4ec3b1aabb8ef19ebe02",
      "c9a50441bb254bba8504853b74ec7408",
      "286e48f2cece467d88aa204e891ea9a6",
      "8277bad70f9c41be95950c039c21ecab"
     ]
    },
    "executionInfo": {
     "elapsed": 25,
     "status": "ok",
     "timestamp": 1759174246269,
     "user": {
      "displayName": "Mattia Borgia",
      "userId": "08265928713914240470"
     },
     "user_tz": -120
    },
    "id": "MPGsW-if6Xy7",
    "outputId": "3c00e3eb-ebb1-4219-e7e2-f9fffaebc153"
   },
   "outputs": [],
   "source": [
    "# CELLA 3: Esegui l'applicazione\n",
    "# Esegui questa cella per mostrare l'interfaccia.\n",
    "# Incolla il link, scegli il tipo di mix e clicca il pulsante!\n",
    "\n",
    "print(\" AI Audio Mixer \")\n",
    "print(\"Inserisci un link di YouTube, scegli il tipo di mix e clicca il pulsante per iniziare.\")\n",
    "display(url_input, mix_type_selector, button, output_area)"
   ]
  }
 ],
 "metadata": {
  "colab": {
   "authorship_tag": "ABX9TyO0IQiYwrDXEMC/DGiZMi6o",
   "provenance": []
  },
  "kernelspec": {
   "display_name": "Python 3",
   "name": "python3"
  },
  "language_info": {
   "name": "python"
  }
 },
 "nbformat": 4,
 "nbformat_minor": 0
}
